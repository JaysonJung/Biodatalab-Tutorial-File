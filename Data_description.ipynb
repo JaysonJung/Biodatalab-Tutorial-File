{
 "cells": [
  {
   "cell_type": "markdown",
   "metadata": {},
   "source": [
    "# 데이터 설명"
   ]
  },
  {
   "cell_type": "markdown",
   "metadata": {},
   "source": [
    "##  UCSC Xena \n",
    "- UCSC (University of California Santa Cruz) Xena는 여러 암종의 데이터를 모아 놓은 public & private data platform이다. 특히, 우리 바이오 데이터 분석 수업에서는 TCGA TARGET GTEx의 RNA-seq fpkm형식의 데이터를 사용하며, 아래는 각 public data의 정보를 나타낸다.  \n",
    "    - **TCGA(The Cancer Genome Atlas)**  \n",
    "    UCSC Xena의 주된 public data source로써, Internatuinal Cancer Genome Consortium(ICGC)에서 구축한 data platform이다. 약 2만건에 달하는 cancer DNA/RNA seq expression data를 공개해 놓았으며, 데이터의 암종의 개수는 40개이다.\n",
    "    \n",
    "    - **GTEX (Genotype-Tissue Expression)**  \n",
    "    GTEX는 genetic variation과 multi human tissues의 gene expression 간의 관계를 연구하기 위해 제작된 data resource이다. Cancer 및 non-cancer sample로 이루어져 있으며, 약 만건의 데이터가 있다.  \n",
    "    - **TARGET (Tumor Alterations Relevant for Genomics-driven Therapy)**  \n",
    "    TARGET은 cancer 중 somatic alteration이 일어나서 임상적인 변화가 생긴 data를 다루고 있으며, 따라서 TARGET의 gene expression은 치료에 대한 저항성이나 반응에 대한 예후 및 진단 정보를 담고 있다. 약 5000건의 데이터가 있다."
   ]
  },
  {
   "cell_type": "markdown",
   "metadata": {},
   "source": [
    "## 바이오 데이터 분석 수업용 데이터"
   ]
  },
  {
   "cell_type": "markdown",
   "metadata": {},
   "source": [
    "- 바이오 데이터 분석 수업에서는 데이터 크기 문제(raw data의 크기 = 약 7GB)로 TCGA TARGET GTEX의 약 6만개의 gene중 암에 임상적으로 유의미한 308개의 gene을 따로 뽑은 데이터를 사용한다. \n",
    "- 또한, TCGA TARGET GTEx와 GEO data를 하나의 파일에서 사용하기 위해 두 데이터의 batch effect를 줄여주어야 한다. 두 데이터의 batch effect에 많은 차이가 있으면 제대로 된 유전자 분석이 어렵기 때문이다. 데이터 batch effect를 줄이는 방법은 여러가지가 있는데, 수업에 사용하는 데이터에서는 R SVA package function 중 combat 방법을 사용한다."
   ]
  },
  {
   "cell_type": "markdown",
   "metadata": {},
   "source": [
    "| **Train set**  |            |            | **Test set**   |            |            |\n",
    "| -------------- | ---------- | ---------- | -------------- | ---------- | ---------- |\n",
    "| **Project_ID** | **cancer** | **normal** | **Project_ID** | **cancer** | **normal** |\n",
    "| **GSM**        | 1185       | 1250       | **GSM**        | 1186       | 1249       |\n",
    "| **TCGA**       | 1946       | 163        | **TCGA**       | 2166       | 167        |\n",
    "| **TARGET**     | 220        | 4          | **TARGET**     | 0          | 0          |\n",
    "| **GTEX**       | 0          | 1792       | **GTEX**       | 0          | 1792       |\n",
    "| **Total**      | 6560       |            | **Total**      | 6560       |            |"
   ]
  },
  {
   "cell_type": "markdown",
   "metadata": {},
   "source": [
    "(Train & Test data의 cancer & normal sample count table )\n",
    "\n",
    "- 데이터의 마지막 column에는 각 샘플이 cancer인지 normal인지에 대한 정보가 담겨있다. Cancer = 1, normal = 0으로 labeling되어있다."
   ]
  },
  {
   "cell_type": "markdown",
   "metadata": {},
   "source": [
    "## Read & Divide DATA into Cancer & Normal"
   ]
  },
  {
   "cell_type": "code",
   "execution_count": 4,
   "metadata": {},
   "outputs": [
    {
     "ename": "SyntaxError",
     "evalue": "invalid character in identifier (<ipython-input-4-eebf1a692c15>, line 3)",
     "output_type": "error",
     "traceback": [
      "\u001b[0;36m  File \u001b[0;32m\"<ipython-input-4-eebf1a692c15>\"\u001b[0;36m, line \u001b[0;32m3\u001b[0m\n\u001b[0;31m    train_data= pd.read_csv(‘BDA_example_train_data.csv’)\u001b[0m\n\u001b[0m                                                  ^\u001b[0m\n\u001b[0;31mSyntaxError\u001b[0m\u001b[0;31m:\u001b[0m invalid character in identifier\n"
     ]
    }
   ],
   "source": [
    "import pandas as pd\n",
    "\n",
    "train_data= pd.read_csv(‘BDA_example_train_data.csv’)\n",
    "test_data = pd.read_csv(‘BDA_example_test_data.csv’)\n",
    "\n",
    "train_cancer = train_data[train_data[‘result’]==1]\n",
    "train_normal = train_data[train_data[‘result’]==0]\n",
    "\n",
    "test_cancer = test_data[test_data[‘result’]==1]\n",
    "test_normal = test_data[test_data[‘result’]==0]"
   ]
  },
  {
   "cell_type": "markdown",
   "metadata": {},
   "source": [
    "- pandas는 파이썬 라이브러리 중 하나로, 데이터를 dataframe형식으로 만드는 것을 가능하게 하여 데이터 처리를 용이하게 만들어주며, 그밖에 각 row 및 column에 대한 여러 연산의 함수를 제공해주는 라이브러리이다.\n",
    "\n",
    "- 기초 통계 검정에 쓰일 집단들을 생성하기 위해 Train & Test 데이터를 cancer & normal 로 나누어 따로 저장해 준다.\n",
    "\n"
   ]
  },
  {
   "cell_type": "code",
   "execution_count": null,
   "metadata": {},
   "outputs": [],
   "source": []
  }
 ],
 "metadata": {
  "kernelspec": {
   "display_name": "Python 3",
   "language": "python",
   "name": "python3"
  },
  "language_info": {
   "codemirror_mode": {
    "name": "ipython",
    "version": 3
   },
   "file_extension": ".py",
   "mimetype": "text/x-python",
   "name": "python",
   "nbconvert_exporter": "python",
   "pygments_lexer": "ipython3",
   "version": "3.6.9"
  }
 },
 "nbformat": 4,
 "nbformat_minor": 2
}
